{
 "cells": [
  {
   "cell_type": "markdown",
   "metadata": {},
   "source": [
    "# Example notebook"
   ]
  },
  {
   "cell_type": "code",
   "execution_count": 1,
   "metadata": {},
   "outputs": [
    {
     "name": "stderr",
     "output_type": "stream",
     "text": [
      "c:\\Users\\JackChua\\Projects\\Floorplan\\CubiCasa5k\\floortrans\\plotting.py:612: UserWarning: Overwriting the cmap 'rooms_furu' that was already in the registry.\n",
      "  cm.register_cmap(cmap=cmap3, override_builtin=True)\n"
     ]
    }
   ],
   "source": [
    "%matplotlib inline\n",
    "from dotenv import load_dotenv\n",
    "load_dotenv()\n",
    "\n",
    "from skimage import transform\n",
    "import numpy as np\n",
    "import logging\n",
    "import os\n",
    "\n",
    "import matplotlib.pyplot as plt\n",
    "import matplotlib.image as mpimg\n",
    "import torch\n",
    "import torch.nn.functional as F\n",
    "from torch.utils.data import DataLoader\n",
    "from floortrans.models import get_model\n",
    "from floortrans.loaders import ImageLoader, FloorplanSVG, DictToTensor, Compose, RotateNTurns\n",
    "from floortrans.plotting import segmentation_plot, polygons_to_image, polygons_to_json, draw_junction_from_dict, discrete_cmap\n",
    "discrete_cmap()\n",
    "from floortrans.post_prosessing import split_prediction, get_polygons, split_validation\n",
    "from floortrans.metrics import get_evaluation_tensors, runningScore\n",
    "from tqdm import tqdm\n",
    "\n",
    "from mpl_toolkits.axes_grid1 import AxesGrid\n",
    "from IPython.display import Image\n",
    "from IPython.core.display import HTML \n",
    "\n",
    "rot = RotateNTurns()\n",
    "room_classes = [\"Background\", \"Outdoor\", \"Wall\", \"Kitchen\", \"Living Room\" ,\"Bed Room\", \"Bath\", \"Entry\", \"Railing\", \"Storage\", \"Garage\", \"Undefined\"]\n",
    "icon_classes = [\"No Icon\", \"Window\", \"Door\", \"Closet\", \"Electrical Applience\" ,\"Toilet\", \"Sink\", \"Sauna Bench\", \"Fire Place\", \"Bathtub\", \"Chimney\"]\n",
    "\n",
    "data_folder = 'data/cubicasa5k/'\n",
    "data_file = 'test.txt'\n",
    "normal_set = ImageLoader(data_folder, data_file, format='txt', original_size=True)\n",
    "data_loader = DataLoader(normal_set, batch_size=1, num_workers=0)\n",
    "data_iter = iter(data_loader)\n"
   ]
  },
  {
   "cell_type": "code",
   "execution_count": 2,
   "metadata": {},
   "outputs": [
    {
     "name": "stdout",
     "output_type": "stream",
     "text": [
      "Model loaded.\n"
     ]
    }
   ],
   "source": [
    "# Setup Model\n",
    "model = get_model('hg_furukawa_original', 51)\n",
    "n_classes = 44\n",
    "n_icons = len(icon_classes)\n",
    "n_rooms = len(room_classes)\n",
    "split = [21, 12, 11]\n",
    "model.conv4_ = torch.nn.Conv2d(256, n_classes, bias=True, kernel_size=1)\n",
    "model.upsample = torch.nn.ConvTranspose2d(n_classes, n_classes, kernel_size=4, stride=4)\n",
    "checkpoint = torch.load('model_best_val_loss_var.pkl')\n",
    "\n",
    "model.load_state_dict(checkpoint['model_state'])\n",
    "model.eval()\n",
    "model.cuda()\n",
    "print(\"Model loaded.\")"
   ]
  },
  {
   "cell_type": "code",
   "execution_count": 3,
   "metadata": {},
   "outputs": [],
   "source": [
    "# Logger\n",
    "logger = logging.getLogger('eval')\n",
    "logger.setLevel(logging.DEBUG)\n",
    "fh = logging.FileHandler('runs_cubi/'+'eval.log')\n",
    "fh.setLevel(logging.DEBUG)\n",
    "formatter = logging.Formatter('%(asctime)s - %(name)s - %(levelname)s - %(message)s')\n",
    "fh.setFormatter(formatter)\n",
    "logger.addHandler(fh)"
   ]
  },
  {
   "cell_type": "code",
   "execution_count": 5,
   "metadata": {},
   "outputs": [
    {
     "name": "stderr",
     "output_type": "stream",
     "text": [
      "  0%|                                                     | 0/2 [00:00<?, ?it/s]c:\\Users\\JackChua\\Projects\\Floorplan\\CubiCasa5k\\floortrans\\post_prosessing.py:334: ShapelyDeprecationWarning: Iteration over multi-part geometries is deprecated and will be removed in Shapely 2.0. Use the `geoms` property to access the constituent parts of a multi-part geometry.\n",
      "  for pol in polygon_union:\n",
      "                                                                                \r"
     ]
    },
    {
     "ename": "TypeError",
     "evalue": "polygons_to_json() takes 4 positional arguments but 5 were given",
     "output_type": "error",
     "traceback": [
      "\u001b[1;31m---------------------------------------------------------------------------\u001b[0m",
      "\u001b[1;31mTypeError\u001b[0m                                 Traceback (most recent call last)",
      "\u001b[1;32m~\\AppData\\Local\\Temp\\ipykernel_28168\\1118408081.py\u001b[0m in \u001b[0;36m<cell line: 4>\u001b[1;34m()\u001b[0m\n\u001b[0;32m     62\u001b[0m       \u001b[0mos\u001b[0m\u001b[1;33m.\u001b[0m\u001b[0mmkdir\u001b[0m\u001b[1;33m(\u001b[0m\u001b[0mdir\u001b[0m\u001b[1;33m)\u001b[0m\u001b[1;33m\u001b[0m\u001b[1;33m\u001b[0m\u001b[0m\n\u001b[0;32m     63\u001b[0m \u001b[1;33m\u001b[0m\u001b[0m\n\u001b[1;32m---> 64\u001b[1;33m     \u001b[0mpolygons_to_json\u001b[0m\u001b[1;33m(\u001b[0m\u001b[0mos\u001b[0m\u001b[1;33m.\u001b[0m\u001b[0mpath\u001b[0m\u001b[1;33m.\u001b[0m\u001b[0mjoin\u001b[0m\u001b[1;33m(\u001b[0m\u001b[0mdir\u001b[0m\u001b[1;33m,\u001b[0m \u001b[1;34m'data.json'\u001b[0m\u001b[1;33m)\u001b[0m\u001b[1;33m,\u001b[0m \u001b[0mpolygons\u001b[0m\u001b[1;33m,\u001b[0m \u001b[0mtypes\u001b[0m\u001b[1;33m,\u001b[0m \u001b[0mroom_polygons\u001b[0m\u001b[1;33m,\u001b[0m \u001b[0mroom_types\u001b[0m\u001b[1;33m)\u001b[0m\u001b[1;33m\u001b[0m\u001b[1;33m\u001b[0m\u001b[0m\n\u001b[0m\u001b[0;32m     65\u001b[0m \u001b[1;33m\u001b[0m\u001b[0m\n\u001b[0;32m     66\u001b[0m     \u001b[1;31m# Plot figures\u001b[0m\u001b[1;33m\u001b[0m\u001b[1;33m\u001b[0m\u001b[0m\n",
      "\u001b[1;31mTypeError\u001b[0m: polygons_to_json() takes 4 positional arguments but 5 were given"
     ]
    }
   ],
   "source": [
    "from Blender.blender_actions import generate_3d\n",
    "\n",
    "# Predict\n",
    "with torch.no_grad():\n",
    "  # Rotation vars\n",
    "  rotations = [(0, 0), (1, -1), (2, 2), (-1, 1)]\n",
    "  pred_count = len(rotations)\n",
    "\n",
    "  for count, val in tqdm(enumerate(data_loader), total=len(data_loader),\n",
    "                          ncols=80, leave=False):\n",
    "    logger.info(count)\n",
    "    item_id = val['item_id'][0]\n",
    "    folder = val['folder'][0]\n",
    "    image = val['image']\n",
    "    images_val = val['image'].cuda()\n",
    "    height = val['height']\n",
    "    width = val['width']\n",
    "\n",
    "    image_np = image.data.numpy()[0]\n",
    "    img_size = (height, width)\n",
    "    \n",
    "    rot = RotateNTurns()\n",
    "    prediction = torch.zeros([pred_count, n_classes, height, width])\n",
    "    for i, r in enumerate(rotations):\n",
    "      forward, back = r\n",
    "      # We rotate first the image\n",
    "      rot_image = rot(images_val, 'tensor', forward)\n",
    "      pred = model(rot_image)\n",
    "      # We rotate prediction back\n",
    "      pred = rot(pred, 'tensor', back)\n",
    "      # We fix heatmaps\n",
    "      pred = rot(pred, 'points', back)\n",
    "      # We make sure the size is correct\n",
    "      pred = F.interpolate(pred, size=(height, width), mode='bilinear', align_corners=True)\n",
    "      # We add the prediction to output\n",
    "      prediction[i] = pred[0]\n",
    "\n",
    "    prediction = torch.mean(prediction, 0, True)\n",
    "\n",
    "    rooms_pred = F.softmax(prediction[0, 21:21+12], 0).cpu().data.numpy()\n",
    "    rooms_pred = np.argmax(rooms_pred, axis=0)\n",
    "\n",
    "    icons_pred = F.softmax(prediction[0, 21+12:], 0).cpu().data.numpy()\n",
    "    icons_pred = np.argmax(icons_pred, axis=0)\n",
    "\n",
    "    # Post-processing\n",
    "    heatmaps, rooms, icons = split_prediction(prediction, img_size, split)\n",
    "    polygons, types, room_polygons, room_types = get_polygons((heatmaps, rooms, icons), 0.2, [1, 2])\n",
    "    # program_path = os.path.dirname(os.path.abspath(''))\n",
    "\n",
    "    # Convert to 3D\n",
    "    generate_3d(item_id, polygons, types, room_polygons, room_types)\n",
    "\n",
    "\n",
    "    # Convert to images\n",
    "    pol_room_seg, pol_icon_seg = polygons_to_image(polygons, types, room_polygons,  room_types, height, width)\n",
    "\n",
    "    # File directory\n",
    "    dir = os.path.join('data', 'output', '%s' % (item_id,))\n",
    "    is_exist = os.path.exists(dir)\n",
    "    if not is_exist:\n",
    "      os.mkdir(dir)\n",
    "\n",
    "    # polygons_to_json(os.path.join(dir, 'data.json'), polygons, types, room_polygons, room_types)\n",
    "    \n",
    "    # Plot figures\n",
    "    plt.figure(figsize=(12,12))\n",
    "    ax = plt.subplot(1, 1, 1)\n",
    "    ax.axis('off')\n",
    "    ## Rooms\n",
    "    rseg = ax.imshow(pol_room_seg, cmap='rooms', vmin=0, vmax=n_rooms-0.1)\n",
    "    # cbar = plt.colorbar(rseg, ticks=np.arange(n_rooms) + 0.5, fraction=0.046, pad=0.01)\n",
    "    # cbar.ax.set_yticklabels(room_classes, fontsize=20)\n",
    "    \n",
    "    # Icons\n",
    "    iseg = ax.imshow(pol_icon_seg, cmap='icons', vmin=0, vmax=n_icons-0.1)\n",
    "    # cbar = plt.colorbar(iseg, ticks=np.arange(n_icons) + 0.5, fraction=0.046, pad=0.01)\n",
    "    # cbar.ax.set_yticklabels(icon_classes, fontsize=20)\n",
    "\n",
    "    plt.show()\n",
    "    # plt.savefig(os.path.join('data', 'output', '%s' % (item_id,), 'rooms.svg'))"
   ]
  }
 ],
 "metadata": {
  "kernelspec": {
   "display_name": "Python 3.10.6 ('base')",
   "language": "python",
   "name": "python3"
  },
  "language_info": {
   "codemirror_mode": {
    "name": "ipython",
    "version": 3
   },
   "file_extension": ".py",
   "mimetype": "text/x-python",
   "name": "python",
   "nbconvert_exporter": "python",
   "pygments_lexer": "ipython3",
   "version": "3.10.6"
  },
  "vscode": {
   "interpreter": {
    "hash": "224bf2e713acf980a70e150b044535525bf0f5a1f28f4120fd5c38b207015300"
   }
  }
 },
 "nbformat": 4,
 "nbformat_minor": 2
}
